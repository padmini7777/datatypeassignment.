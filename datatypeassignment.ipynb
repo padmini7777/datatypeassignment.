{
  "nbformat": 4,
  "nbformat_minor": 0,
  "metadata": {
    "colab": {
      "provenance": []
    },
    "kernelspec": {
      "name": "python3",
      "display_name": "Python 3"
    },
    "language_info": {
      "name": "python"
    }
  },
  "cells": [
    {
      "cell_type": "markdown",
      "source": [
        "##DATA TYPES AND STRUCTURES QUESTIONS"
      ],
      "metadata": {
        "id": "sYbl1eJERi2C"
      }
    },
    {
      "cell_type": "markdown",
      "source": [
        "###1. What are data structures, and why are they important?"
      ],
      "metadata": {
        "id": "_AgNe-LtRtkg"
      }
    },
    {
      "cell_type": "markdown",
      "source": [
        "Ans- Data structure are formats for organizing, managing and storing data efficiently. They are important because:\n",
        "\n",
        "- Enable optimized data access and manipulation.\n",
        "- Solve specific problems(e.g. dictionary for key-value pairs).\n",
        "- Improve code performance and readability."
      ],
      "metadata": {
        "id": "Yz_p_BDVR0I-"
      }
    },
    {
      "cell_type": "markdown",
      "source": [
        "###2.  Explain the difference between mutable and immutable data types with examples?"
      ],
      "metadata": {
        "id": "b-Mc6ghkChQK"
      }
    },
    {
      "cell_type": "markdown",
      "source": [
        "Ans-\n",
        "\n",
        "- **Mutable**: Can be modified after creation(e.g. lists, dictionary, sets)\n"
      ],
      "metadata": {
        "id": "0p8x2AQ0CpiS"
      }
    },
    {
      "cell_type": "code",
      "source": [
        "my_list = [1,2,3]\n",
        "my_list[0] = 10 #valid"
      ],
      "metadata": {
        "id": "OBpFt0JfDNlB"
      },
      "execution_count": null,
      "outputs": []
    },
    {
      "cell_type": "code",
      "source": [
        "my_list"
      ],
      "metadata": {
        "colab": {
          "base_uri": "https://localhost:8080/"
        },
        "id": "TX-UgUvIDiFr",
        "outputId": "96380feb-cf0a-4beb-808d-95d473394185"
      },
      "execution_count": null,
      "outputs": [
        {
          "output_type": "execute_result",
          "data": {
            "text/plain": [
              "[10, 2, 3]"
            ]
          },
          "metadata": {},
          "execution_count": 2
        }
      ]
    },
    {
      "cell_type": "markdown",
      "source": [
        "- **Immutable**: Can not be changed after creation(e.g. tuples, strings, integers)"
      ],
      "metadata": {
        "id": "nQ5f0eKtDpxD"
      }
    },
    {
      "cell_type": "code",
      "source": [
        "my_tuple = (1,2,3)\n",
        "my_tuple(0) = 10 #Error = Type error"
      ],
      "metadata": {
        "colab": {
          "base_uri": "https://localhost:8080/",
          "height": 110
        },
        "id": "U2tQQaThEFEp",
        "outputId": "487f06dd-dbc4-4d63-d01d-3f14fa1d1e6e"
      },
      "execution_count": null,
      "outputs": [
        {
          "output_type": "error",
          "ename": "SyntaxError",
          "evalue": "cannot assign to function call here. Maybe you meant '==' instead of '='? (<ipython-input-3-783064e93724>, line 2)",
          "traceback": [
            "\u001b[0;36m  File \u001b[0;32m\"<ipython-input-3-783064e93724>\"\u001b[0;36m, line \u001b[0;32m2\u001b[0m\n\u001b[0;31m    my_tuple(0) = 10 #Error = Type error\u001b[0m\n\u001b[0m    ^\u001b[0m\n\u001b[0;31mSyntaxError\u001b[0m\u001b[0;31m:\u001b[0m cannot assign to function call here. Maybe you meant '==' instead of '='?\n"
          ]
        }
      ]
    },
    {
      "cell_type": "markdown",
      "source": [
        "###3.What are the main differences between lists and tuples in Python?"
      ],
      "metadata": {
        "id": "eC6KibKfEd1u"
      }
    },
    {
      "cell_type": "markdown",
      "source": [
        "**lists**:\n",
        "\n",
        "- Mutable\n",
        "- Syntax: [1, 2, 3]\n",
        "- Slower Iteration\n",
        "\n",
        "**tuples**:\n",
        "\n",
        "- Immutable\n",
        "- Syntax:(1, 2, 3)\n",
        "- Faster Iteration\n",
        "\n"
      ],
      "metadata": {
        "id": "kYudSfBVKMov"
      }
    },
    {
      "cell_type": "markdown",
      "source": [
        "###4.  Describe how dictionaries store data?"
      ],
      "metadata": {
        "id": "pcIODykJLYGR"
      }
    },
    {
      "cell_type": "markdown",
      "source": [
        "Ans- Dictionaries store data as **key-value pairs**, keys are unique and immutable (e.g. string and numbers).\n",
        "\n",
        "Example:"
      ],
      "metadata": {
        "id": "qNHb6APbLqsZ"
      }
    },
    {
      "cell_type": "code",
      "source": [
        "student = {\"name\": \"Padmini\", \"age\": 22}"
      ],
      "metadata": {
        "id": "BWFJCW_vMaTj"
      },
      "execution_count": null,
      "outputs": []
    },
    {
      "cell_type": "markdown",
      "source": [
        "###5.  Why might you use a set instead of a list in Python?"
      ],
      "metadata": {
        "id": "OXjND-u1MzFd"
      }
    },
    {
      "cell_type": "markdown",
      "source": [
        "Ans-\n",
        "\n",
        "**Sets**: Unordered, no duplicates, efficient membership checks.\n",
        "\n",
        "**Lists**: Ordered, allows duplicates, indexed access.\n",
        "Use sets when uniqueness or fast in checks are required."
      ],
      "metadata": {
        "id": "nbmvt0ivM_T_"
      }
    },
    {
      "cell_type": "markdown",
      "source": [
        "###6.What is a string in Python, and how is it different from a list?"
      ],
      "metadata": {
        "id": "fFs0bqsJNUBn"
      }
    },
    {
      "cell_type": "markdown",
      "source": [
        "Ans-\n",
        "\n",
        "**Strings**: Immutable sequence of characters.\n",
        "\n",
        "**Lists**: Mutable, can hold mixed data types."
      ],
      "metadata": {
        "id": "bMaTz2OpNYyQ"
      }
    },
    {
      "cell_type": "markdown",
      "source": [
        "###7. How do tuples ensure data integrity in Python?"
      ],
      "metadata": {
        "id": "y_NV4UPuNoqq"
      }
    },
    {
      "cell_type": "markdown",
      "source": [
        "Ans- Tuples are immutable, so their elements cannot be altered accidentally, making them ideal for fixed data (e.g., coordinates)."
      ],
      "metadata": {
        "id": "dKiY4b1zNy3c"
      }
    },
    {
      "cell_type": "markdown",
      "source": [
        "###8. What is a hash table, and how does it relate to dictionaries in Python?"
      ],
      "metadata": {
        "id": "dP3c8MATN3gv"
      }
    },
    {
      "cell_type": "markdown",
      "source": [
        "Ans- Dictionaries in Python use hash tables internally, enabling O(1) average time complexity for lookups, insertions, and deletions."
      ],
      "metadata": {
        "id": "bmCrvPPQN-nH"
      }
    },
    {
      "cell_type": "markdown",
      "source": [
        "###9. Can lists contain different data types in Python?"
      ],
      "metadata": {
        "id": "0qHVUQYWOJVK"
      }
    },
    {
      "cell_type": "markdown",
      "source": [
        "Ans- Yes! Lists can contain integers, strings, other lists, etc.:"
      ],
      "metadata": {
        "id": "fyd5z7i0OOPz"
      }
    },
    {
      "cell_type": "code",
      "source": [
        "mixed_list = [1, \"apple\", [2, 3]]"
      ],
      "metadata": {
        "id": "L6HDAV-ROTd1"
      },
      "execution_count": null,
      "outputs": []
    },
    {
      "cell_type": "markdown",
      "source": [
        "###10.  Explain why strings are immutable in Python."
      ],
      "metadata": {
        "id": "TJTXqMolOXPF"
      }
    },
    {
      "cell_type": "markdown",
      "source": [
        "Ans- Immutability allows strings to be used as dictionary keys, cached for performance, and safely shared across threads."
      ],
      "metadata": {
        "id": "9OP-spoXOg5h"
      }
    },
    {
      "cell_type": "markdown",
      "source": [
        "###11. What advantages do dictionaries offer over lists for certain tasks?"
      ],
      "metadata": {
        "id": "5ZwWi38-Oq9M"
      }
    },
    {
      "cell_type": "markdown",
      "source": [
        "Ans-\n",
        "\n",
        "Dictionaries are better for:\n",
        "\n",
        "- Key-based lookups (e.g., **student[\"name\"]**).\n",
        "\n",
        "- Storing labeled data (e.g., configuration settings)."
      ],
      "metadata": {
        "id": "2_Hxzb1COzah"
      }
    },
    {
      "cell_type": "markdown",
      "source": [
        "###12. Describe a scenario where using a tuple would be preferable over a list."
      ],
      "metadata": {
        "id": "k_54BD_LPHtb"
      }
    },
    {
      "cell_type": "markdown",
      "source": [
        "Ans- Use tuples for fixed data (e.g., days of the week):"
      ],
      "metadata": {
        "id": "zZDo38KbPNOI"
      }
    },
    {
      "cell_type": "code",
      "source": [
        "days = (\"Mon\", \"Tue\", \"Wed\")"
      ],
      "metadata": {
        "id": "YgmhKOauPUlw"
      },
      "execution_count": null,
      "outputs": []
    },
    {
      "cell_type": "markdown",
      "source": [
        "###13. How do sets handle duplicate values in Python?"
      ],
      "metadata": {
        "id": "PDk6AGDBPa3p"
      }
    },
    {
      "cell_type": "markdown",
      "source": [
        "Ans- Sets automatically discard duplicate values during creation:"
      ],
      "metadata": {
        "id": "kQioj1H6Pgy6"
      }
    },
    {
      "cell_type": "code",
      "source": [
        "my_set = {1, 1, 2}  # Result: {1, 2}"
      ],
      "metadata": {
        "id": "VWQC5Cl4Pnls"
      },
      "execution_count": null,
      "outputs": []
    },
    {
      "cell_type": "code",
      "source": [
        "my_set"
      ],
      "metadata": {
        "colab": {
          "base_uri": "https://localhost:8080/"
        },
        "id": "uQgdiUBDPsXH",
        "outputId": "7a812bc3-e492-4b99-e4e0-ddc406ac3c08"
      },
      "execution_count": null,
      "outputs": [
        {
          "output_type": "execute_result",
          "data": {
            "text/plain": [
              "{1, 2}"
            ]
          },
          "metadata": {},
          "execution_count": 9
        }
      ]
    },
    {
      "cell_type": "markdown",
      "source": [
        "###14. How does the “in” keyword work differently for lists and dictionaries?"
      ],
      "metadata": {
        "id": "IW1JM8RXPvoK"
      }
    },
    {
      "cell_type": "markdown",
      "source": [
        "Ans- \"in\" Keyword Differences\n",
        "\n",
        "**Lists**: Checks for element existence (O(n) time).\n",
        "\n",
        "**Dictionaries**: Checks for key existence (O(1) time).\n",
        "\n"
      ],
      "metadata": {
        "id": "VjSABp6GP1TB"
      }
    },
    {
      "cell_type": "markdown",
      "source": [
        "###15.Can you modify the elements of a tuple? Explain why or why not?"
      ],
      "metadata": {
        "id": "J6-kvhUgQIB8"
      }
    },
    {
      "cell_type": "markdown",
      "source": [
        "Ans- No. Tuples are immutable, so elements cannot be added, removed, or changed.\n",
        "\n"
      ],
      "metadata": {
        "id": "ho5MMUmxQOP2"
      }
    },
    {
      "cell_type": "markdown",
      "source": [
        "###16. What is a nested dictionary, and give an example of its use case?"
      ],
      "metadata": {
        "id": "_ur_TPVxQVsQ"
      }
    },
    {
      "cell_type": "markdown",
      "source": [
        "Ans- A dictionary containing other dictionaries:"
      ],
      "metadata": {
        "id": "dRBZHgDWQlfR"
      }
    },
    {
      "cell_type": "code",
      "source": [
        "employees = {\n",
        "    \"Alice\": {\"age\": 30, \"role\": \"Engineer\"},\n",
        "    \"Bob\": {\"age\": 25, \"role\": \"Designer\"}\n",
        "}"
      ],
      "metadata": {
        "id": "rgFfHuNtQtBr"
      },
      "execution_count": null,
      "outputs": []
    },
    {
      "cell_type": "markdown",
      "source": [
        "###17.  Describe the time complexity of accessing elements in a dictionary."
      ],
      "metadata": {
        "id": "oDaJw-g9QcQn"
      }
    },
    {
      "cell_type": "markdown",
      "source": [
        "Ans- O(1) average time for accessing elements due to hash tables."
      ],
      "metadata": {
        "id": "YEnMxgxMQ1rh"
      }
    },
    {
      "cell_type": "markdown",
      "source": [
        "###18. In what situations are lists preferred over dictionaries?"
      ],
      "metadata": {
        "id": "QogJ_3hiQ7vh"
      }
    },
    {
      "cell_type": "markdown",
      "source": [
        "Ans- When order matters or you need sequential access (e.g., processing items in sequence).\n",
        "\n"
      ],
      "metadata": {
        "id": "9Tg7l5XsRA__"
      }
    },
    {
      "cell_type": "markdown",
      "source": [
        "###19.Why are dictionaries considered unordered, and how does that affect data retrieval?"
      ],
      "metadata": {
        "id": "84V0XyDmRJ57"
      }
    },
    {
      "cell_type": "markdown",
      "source": [
        "Ans- Dictionaries are optimized for **key-based lookups**, not order.\n",
        "\n",
        "Always retrieve data by **keys**, not positions.\n"
      ],
      "metadata": {
        "id": "AADLriBkTgqd"
      }
    },
    {
      "cell_type": "markdown",
      "source": [
        "###20. Explain the difference between a list and a dictionary in terms of data retrieval."
      ],
      "metadata": {
        "id": "fzGGEk6sTFFt"
      }
    },
    {
      "cell_type": "markdown",
      "source": [
        "Ans-\n",
        "\n",
        "- **List**: Access elements by index (e.g., list[0]).\n",
        "\n",
        "- **Dictionary**: Access elements by key (e.g., dict[\"key\"])."
      ],
      "metadata": {
        "id": "HEJnGBZyTI18"
      }
    },
    {
      "cell_type": "markdown",
      "source": [
        "##PRACTICAL QUESTIONS"
      ],
      "metadata": {
        "id": "U8YbBymLT3qH"
      }
    },
    {
      "cell_type": "markdown",
      "source": [
        "###1. Write a code to create a string with your name and print it?"
      ],
      "metadata": {
        "id": "fnv42JcjT-R7"
      }
    },
    {
      "cell_type": "code",
      "source": [
        "name = \"Padmini\"\n",
        "print(name)"
      ],
      "metadata": {
        "colab": {
          "base_uri": "https://localhost:8080/"
        },
        "id": "7GTwxoU8UDTt",
        "outputId": "8b30a7f6-980a-4d09-af59-deef8812b66a"
      },
      "execution_count": null,
      "outputs": [
        {
          "output_type": "stream",
          "name": "stdout",
          "text": [
            "Padmini\n"
          ]
        }
      ]
    },
    {
      "cell_type": "markdown",
      "source": [
        "###2. Write a code to find the length of the string \"Hello World\"?"
      ],
      "metadata": {
        "id": "utFCMAlQUNvK"
      }
    },
    {
      "cell_type": "code",
      "source": [
        "print(len(\"Hello World\"))"
      ],
      "metadata": {
        "colab": {
          "base_uri": "https://localhost:8080/"
        },
        "id": "ZlBT7WyZUUVA",
        "outputId": "1091ed9c-992a-4e46-8033-8976db90ddcc"
      },
      "execution_count": null,
      "outputs": [
        {
          "output_type": "stream",
          "name": "stdout",
          "text": [
            "11\n"
          ]
        }
      ]
    },
    {
      "cell_type": "markdown",
      "source": [
        "###3. Write a code to slice the first 3 characters from the string \"Python Programming\"?"
      ],
      "metadata": {
        "id": "gfEK_iS3UY_a"
      }
    },
    {
      "cell_type": "code",
      "source": [
        "s = \"Python Programming\"\n",
        "print(s[:3])"
      ],
      "metadata": {
        "colab": {
          "base_uri": "https://localhost:8080/"
        },
        "id": "UBuwMLxGUecz",
        "outputId": "b63eaaea-70b8-484d-90af-0501320ea937"
      },
      "execution_count": null,
      "outputs": [
        {
          "output_type": "stream",
          "name": "stdout",
          "text": [
            "Pyt\n"
          ]
        }
      ]
    },
    {
      "cell_type": "markdown",
      "source": [
        "###4. Write a code to convert the string \"hello\" to uppercase?"
      ],
      "metadata": {
        "id": "ilbPlWolUkP1"
      }
    },
    {
      "cell_type": "code",
      "source": [
        "print(\"hello\".upper())"
      ],
      "metadata": {
        "colab": {
          "base_uri": "https://localhost:8080/"
        },
        "id": "D4nrD3lkUoOe",
        "outputId": "738407f4-63db-4df8-a0a6-619748d11fc6"
      },
      "execution_count": null,
      "outputs": [
        {
          "output_type": "stream",
          "name": "stdout",
          "text": [
            "HELLO\n"
          ]
        }
      ]
    },
    {
      "cell_type": "markdown",
      "source": [
        "###5. Write a code to replace the word \"apple\" with \"orange\" in the string \"I like apple\"?"
      ],
      "metadata": {
        "id": "HuPmgxpgUskU"
      }
    },
    {
      "cell_type": "code",
      "source": [
        "s = \"I like apple\"\n",
        "print(s.replace(\"apple\", \"orange\"))"
      ],
      "metadata": {
        "colab": {
          "base_uri": "https://localhost:8080/"
        },
        "id": "sEQWXIsUU3gs",
        "outputId": "80fde996-5dad-448b-83fe-2eb624d3b4ef"
      },
      "execution_count": null,
      "outputs": [
        {
          "output_type": "stream",
          "name": "stdout",
          "text": [
            "I like orange\n"
          ]
        }
      ]
    },
    {
      "cell_type": "markdown",
      "source": [
        "###6. Write a code to create a list with numbers 1 to 5 and print it?"
      ],
      "metadata": {
        "id": "x6vBgfv9U_jS"
      }
    },
    {
      "cell_type": "code",
      "source": [
        "my_list = [1, 2, 3, 4, 5]\n",
        "print(my_list)"
      ],
      "metadata": {
        "colab": {
          "base_uri": "https://localhost:8080/"
        },
        "id": "qy4VLYmDVGkv",
        "outputId": "7e685716-682d-40bc-d135-e3f74f6e4cca"
      },
      "execution_count": null,
      "outputs": [
        {
          "output_type": "stream",
          "name": "stdout",
          "text": [
            "[1, 2, 3, 4, 5]\n"
          ]
        }
      ]
    },
    {
      "cell_type": "markdown",
      "source": [
        "###7. Write a code to append the number 10 to the list [1, 2, 3, 4]?"
      ],
      "metadata": {
        "id": "7mrZkUHEVOeq"
      }
    },
    {
      "cell_type": "code",
      "source": [
        "lst = [1, 2, 3, 4]\n",
        "lst.append(10)\n",
        "print(lst)"
      ],
      "metadata": {
        "colab": {
          "base_uri": "https://localhost:8080/"
        },
        "id": "11DJeRjFVUGf",
        "outputId": "16cda69c-17e6-4211-c8e1-afe6f6a2f760"
      },
      "execution_count": null,
      "outputs": [
        {
          "output_type": "stream",
          "name": "stdout",
          "text": [
            "[1, 2, 3, 4, 10]\n"
          ]
        }
      ]
    },
    {
      "cell_type": "markdown",
      "source": [
        "###8.Write a code to remove the number 3 from the list [1, 2, 3, 4, 5]?"
      ],
      "metadata": {
        "id": "jsqk6haAVYs9"
      }
    },
    {
      "cell_type": "code",
      "source": [
        "lst = [1, 2, 3, 4, 5]\n",
        "lst.remove(3)\n",
        "print(lst)"
      ],
      "metadata": {
        "colab": {
          "base_uri": "https://localhost:8080/"
        },
        "id": "LzUIj9icVe_4",
        "outputId": "94982ee2-61e0-4f63-9641-d5d4c714efd9"
      },
      "execution_count": null,
      "outputs": [
        {
          "output_type": "stream",
          "name": "stdout",
          "text": [
            "[1, 2, 4, 5]\n"
          ]
        }
      ]
    },
    {
      "cell_type": "markdown",
      "source": [
        "###9. Write a code to access the second element in the list ['a', 'b', 'c', 'd']?"
      ],
      "metadata": {
        "id": "2VPFofQ-Vluk"
      }
    },
    {
      "cell_type": "code",
      "source": [
        "lst = ['a', 'b', 'c', 'd']\n",
        "print(lst[1])"
      ],
      "metadata": {
        "colab": {
          "base_uri": "https://localhost:8080/"
        },
        "id": "U3s7zRLmVq0Z",
        "outputId": "2bd573f9-e37e-42e7-fb15-e5dc5e946095"
      },
      "execution_count": null,
      "outputs": [
        {
          "output_type": "stream",
          "name": "stdout",
          "text": [
            "b\n"
          ]
        }
      ]
    },
    {
      "cell_type": "markdown",
      "source": [
        "###10. Write a code to reverse the list [10, 20, 30, 40, 50]?"
      ],
      "metadata": {
        "id": "2J9cnMTDVzYl"
      }
    },
    {
      "cell_type": "code",
      "source": [
        "lst = [10, 20, 30, 40, 50]\n",
        "print(lst[::-1])"
      ],
      "metadata": {
        "colab": {
          "base_uri": "https://localhost:8080/"
        },
        "id": "BOYGzIHpV7Oa",
        "outputId": "3fd0ed23-2563-4443-e81d-1059044c0a67"
      },
      "execution_count": null,
      "outputs": [
        {
          "output_type": "stream",
          "name": "stdout",
          "text": [
            "[50, 40, 30, 20, 10]\n"
          ]
        }
      ]
    },
    {
      "cell_type": "markdown",
      "source": [
        "###11.Write a code to create a tuple with the elements 100, 200, 300 and print it."
      ],
      "metadata": {
        "id": "1En7hXkOWA2C"
      }
    },
    {
      "cell_type": "code",
      "source": [
        "tup = (100, 200, 300)\n",
        "print(tup)"
      ],
      "metadata": {
        "colab": {
          "base_uri": "https://localhost:8080/"
        },
        "id": "7f_cOnIsWHst",
        "outputId": "882bd5c4-bf04-4275-d995-fc2ac048edaf"
      },
      "execution_count": null,
      "outputs": [
        {
          "output_type": "stream",
          "name": "stdout",
          "text": [
            "(100, 200, 300)\n"
          ]
        }
      ]
    },
    {
      "cell_type": "markdown",
      "source": [
        "###12. Write a code to access the second-to-last element of the tuple ('red', 'green', 'blue', 'yellow')."
      ],
      "metadata": {
        "id": "tL2QhPTGWNoP"
      }
    },
    {
      "cell_type": "code",
      "source": [
        "colors = ('red', 'green', 'blue', 'yellow')\n",
        "print(colors[-2])"
      ],
      "metadata": {
        "colab": {
          "base_uri": "https://localhost:8080/"
        },
        "id": "e1snuuu6WUa6",
        "outputId": "9f0a1f93-9abb-42c7-bfad-7bdd4c402bca"
      },
      "execution_count": null,
      "outputs": [
        {
          "output_type": "stream",
          "name": "stdout",
          "text": [
            "blue\n"
          ]
        }
      ]
    },
    {
      "cell_type": "markdown",
      "source": [
        "### 13. Write a code to find the minimum number in the tuple (10, 20, 5, 15)."
      ],
      "metadata": {
        "id": "Mh6EcMUiWZVL"
      }
    },
    {
      "cell_type": "code",
      "source": [
        "nums = (10, 20, 5, 15)\n",
        "print(min(nums))"
      ],
      "metadata": {
        "colab": {
          "base_uri": "https://localhost:8080/"
        },
        "id": "BlOWxxrKWY4y",
        "outputId": "25547c17-c749-4739-f371-23f82be8b3c7"
      },
      "execution_count": null,
      "outputs": [
        {
          "output_type": "stream",
          "name": "stdout",
          "text": [
            "5\n"
          ]
        }
      ]
    },
    {
      "cell_type": "markdown",
      "source": [
        "### 14. Write a code to find the index of the element \"cat\" in the tuple ('dog', 'cat', 'rabbit')."
      ],
      "metadata": {
        "id": "VfvhecIfWkX-"
      }
    },
    {
      "cell_type": "code",
      "source": [
        "pets = ('dog', 'cat', 'rabbit')\n",
        "print(pets.index('cat'))"
      ],
      "metadata": {
        "colab": {
          "base_uri": "https://localhost:8080/"
        },
        "id": "JXn3-QbkWoEy",
        "outputId": "21de33fc-f6a8-4802-9b75-863895b22a8e"
      },
      "execution_count": null,
      "outputs": [
        {
          "output_type": "stream",
          "name": "stdout",
          "text": [
            "1\n"
          ]
        }
      ]
    },
    {
      "cell_type": "markdown",
      "source": [
        "###15. Write a code to create a tuple containing three different fruits and check if \"kiwi\" is in it."
      ],
      "metadata": {
        "id": "QvBlWN1NWuHM"
      }
    },
    {
      "cell_type": "code",
      "source": [
        "fruits = ('apple', 'banana', 'orange')\n",
        "print('kiwi' in fruits)"
      ],
      "metadata": {
        "colab": {
          "base_uri": "https://localhost:8080/"
        },
        "id": "kVXxJfmtW0Ez",
        "outputId": "085395bb-378d-441b-db6e-d610b70a0c6c"
      },
      "execution_count": null,
      "outputs": [
        {
          "output_type": "stream",
          "name": "stdout",
          "text": [
            "False\n"
          ]
        }
      ]
    },
    {
      "cell_type": "markdown",
      "source": [
        "### 16. Write a code to create a set with the elements 'a', 'b', 'c' and print it."
      ],
      "metadata": {
        "id": "kW_rkJy0W45V"
      }
    },
    {
      "cell_type": "code",
      "source": [
        "my_set = {'a', 'b', 'c'}\n",
        "print(my_set)"
      ],
      "metadata": {
        "colab": {
          "base_uri": "https://localhost:8080/"
        },
        "id": "PiRXhv_naFp9",
        "outputId": "cf8531ab-3ea2-4710-9cbd-4ae88da3b5e5"
      },
      "execution_count": null,
      "outputs": [
        {
          "output_type": "stream",
          "name": "stdout",
          "text": [
            "{'b', 'a', 'c'}\n"
          ]
        }
      ]
    },
    {
      "cell_type": "markdown",
      "source": [
        "### 17. Write a code to clear all elements from the set {1, 2, 3, 4, 5}."
      ],
      "metadata": {
        "id": "nNuRR2WJXboB"
      }
    },
    {
      "cell_type": "code",
      "source": [
        "my_set = {1, 2, 3, 4, 5}\n",
        "my_set.clear()\n",
        "print(my_set)  # Output: set()"
      ],
      "metadata": {
        "colab": {
          "base_uri": "https://localhost:8080/"
        },
        "id": "oOjuCac5XgkA",
        "outputId": "2470c546-df95-4ec4-cd44-3efe33260d25"
      },
      "execution_count": null,
      "outputs": [
        {
          "output_type": "stream",
          "name": "stdout",
          "text": [
            "set()\n"
          ]
        }
      ]
    },
    {
      "cell_type": "markdown",
      "source": [
        "### 18. Write a code to remove the element 4 from the set {1, 2, 3, 4}."
      ],
      "metadata": {
        "id": "0Pfm9YpMXkix"
      }
    },
    {
      "cell_type": "code",
      "source": [
        "my_set = {1, 2, 3, 4}\n",
        "my_set.remove(4)\n",
        "print(my_set)  # Output: {1, 2, 3}"
      ],
      "metadata": {
        "colab": {
          "base_uri": "https://localhost:8080/"
        },
        "id": "r1xOviWBXkGy",
        "outputId": "61b4d516-87d6-4e58-c8e4-ce80c22bd6c8"
      },
      "execution_count": null,
      "outputs": [
        {
          "output_type": "stream",
          "name": "stdout",
          "text": [
            "{1, 2, 3}\n"
          ]
        }
      ]
    },
    {
      "cell_type": "markdown",
      "source": [
        "###19. Write a code to find the union of two sets {1, 2, 3} and {3, 4, 5}."
      ],
      "metadata": {
        "id": "aR9Tdny7XswY"
      }
    },
    {
      "cell_type": "code",
      "source": [
        "set1 = {1, 2, 3}\n",
        "set2 = {3, 4, 5}\n",
        "print(set1.union(set2))  # Output: {1, 2, 3, 4, 5}"
      ],
      "metadata": {
        "colab": {
          "base_uri": "https://localhost:8080/"
        },
        "id": "RkrvllvKXwpZ",
        "outputId": "b7ceb248-d201-4401-e7a7-b2c1b75cb04b"
      },
      "execution_count": null,
      "outputs": [
        {
          "output_type": "stream",
          "name": "stdout",
          "text": [
            "{1, 2, 3, 4, 5}\n"
          ]
        }
      ]
    },
    {
      "cell_type": "markdown",
      "source": [
        "### 20. Write a code to find the intersection of two sets {1, 2, 3} and {2, 3, 4}."
      ],
      "metadata": {
        "id": "jzNYsuPuX0LH"
      }
    },
    {
      "cell_type": "code",
      "source": [
        "set1 = {1, 2, 3}\n",
        "set2 = {2, 3, 4}\n",
        "print(set1.intersection(set2))  # Output: {2, 3}"
      ],
      "metadata": {
        "colab": {
          "base_uri": "https://localhost:8080/"
        },
        "id": "QOjn1yAQX5AV",
        "outputId": "31b38e93-c9fb-45bf-e748-c0735eca89d5"
      },
      "execution_count": null,
      "outputs": [
        {
          "output_type": "stream",
          "name": "stdout",
          "text": [
            "{2, 3}\n"
          ]
        }
      ]
    },
    {
      "cell_type": "markdown",
      "source": [
        "### 21. Write a code to create a dictionary with the keys \"name\", \"age\", and \"city\", and print it."
      ],
      "metadata": {
        "id": "T6J9opZtX9Zt"
      }
    },
    {
      "cell_type": "code",
      "source": [
        "person = {\"name\": \"John\", \"age\": 25, \"city\": \"New York\"}\n",
        "print(person)  # Output: {'name': 'John', 'age': 25, 'city': 'New York'}"
      ],
      "metadata": {
        "colab": {
          "base_uri": "https://localhost:8080/"
        },
        "id": "Ok16gdfRYCRO",
        "outputId": "a7253d77-7ab3-4dad-a0fd-8ad7c919eabb"
      },
      "execution_count": null,
      "outputs": [
        {
          "output_type": "stream",
          "name": "stdout",
          "text": [
            "{'name': 'John', 'age': 25, 'city': 'New York'}\n"
          ]
        }
      ]
    },
    {
      "cell_type": "markdown",
      "source": [
        "### 22. Write a code to add a new key-value pair \"country\": \"USA\" to the dictionary {'name': 'John', 'age': 25}."
      ],
      "metadata": {
        "id": "TPGwpudRYGlJ"
      }
    },
    {
      "cell_type": "code",
      "source": [
        "person = {'name': 'John', 'age': 25}\n",
        "person['country'] = 'USA'\n",
        "print(person)  # Output: {'name': 'John', 'age': 25, 'country': 'USA'}"
      ],
      "metadata": {
        "colab": {
          "base_uri": "https://localhost:8080/"
        },
        "id": "00RN5RbaYKwW",
        "outputId": "b8b26ced-c352-4e0e-d45c-4ceca36b3238"
      },
      "execution_count": null,
      "outputs": [
        {
          "output_type": "stream",
          "name": "stdout",
          "text": [
            "{'name': 'John', 'age': 25, 'country': 'USA'}\n"
          ]
        }
      ]
    },
    {
      "cell_type": "markdown",
      "source": [
        "### 23. Write a code to access the value associated with the key \"name\" in the dictionary {'name': 'Alice', 'age': 30}."
      ],
      "metadata": {
        "id": "OjepTEZ5YOre"
      }
    },
    {
      "cell_type": "code",
      "source": [
        "person = {'name': 'Alice', 'age': 30}\n",
        "print(person['name'])  # Output: Alice"
      ],
      "metadata": {
        "colab": {
          "base_uri": "https://localhost:8080/"
        },
        "id": "6xtALhWHYTYH",
        "outputId": "45b30dad-6368-4f11-d65b-faeab89c00a3"
      },
      "execution_count": null,
      "outputs": [
        {
          "output_type": "stream",
          "name": "stdout",
          "text": [
            "Alice\n"
          ]
        }
      ]
    },
    {
      "cell_type": "markdown",
      "source": [
        "### 24. Write a code to remove the key \"age\" from the dictionary {'name': 'Bob', 'age': 22, 'city': 'New York'}."
      ],
      "metadata": {
        "id": "kcMi3AtSYdXa"
      }
    },
    {
      "cell_type": "code",
      "source": [
        "person = {'name': 'Bob', 'age': 22, 'city': 'New York'}\n",
        "del person['age']\n",
        "print(person)  # Output: {'name': 'Bob', 'city': 'New York'}"
      ],
      "metadata": {
        "colab": {
          "base_uri": "https://localhost:8080/"
        },
        "id": "IOHkHVvCYiqj",
        "outputId": "7b396628-c4f9-4e56-cd5d-2c14371d8d23"
      },
      "execution_count": null,
      "outputs": [
        {
          "output_type": "stream",
          "name": "stdout",
          "text": [
            "{'name': 'Bob', 'city': 'New York'}\n"
          ]
        }
      ]
    },
    {
      "cell_type": "markdown",
      "source": [
        "###25. Write a code to check if the key \"city\" exists in the dictionary {'name': 'Alice', 'city': 'Paris'}."
      ],
      "metadata": {
        "id": "hhLxPXhUYlpz"
      }
    },
    {
      "cell_type": "code",
      "source": [
        "person = {'name': 'Alice', 'city': 'Paris'}\n",
        "print('city' in person)  # Output: True"
      ],
      "metadata": {
        "colab": {
          "base_uri": "https://localhost:8080/"
        },
        "id": "ixJIUUoFYzlK",
        "outputId": "259bdcb2-3156-4ba7-cf78-3d07853327b8"
      },
      "execution_count": null,
      "outputs": [
        {
          "output_type": "stream",
          "name": "stdout",
          "text": [
            "True\n"
          ]
        }
      ]
    },
    {
      "cell_type": "markdown",
      "source": [
        "### 26. Write a code to create a list, a tuple, and a dictionary, and print them all."
      ],
      "metadata": {
        "id": "473fdG8CY1uf"
      }
    },
    {
      "cell_type": "code",
      "source": [
        "my_list = [1, 2, 3]\n",
        "my_tuple = (4, 5, 6)\n",
        "my_dict = {\"a\": 7, \"b\": 8}\n",
        "print(my_list, my_tuple, my_dict)"
      ],
      "metadata": {
        "colab": {
          "base_uri": "https://localhost:8080/"
        },
        "id": "bim3qTsCY5N0",
        "outputId": "c2d05973-9e56-47b6-db7a-1ef077a77ac7"
      },
      "execution_count": null,
      "outputs": [
        {
          "output_type": "stream",
          "name": "stdout",
          "text": [
            "[1, 2, 3] (4, 5, 6) {'a': 7, 'b': 8}\n"
          ]
        }
      ]
    },
    {
      "cell_type": "markdown",
      "source": [
        "### 27. Write a code to create a list of 5 random numbers between 1 and 100, sort it in ascending order, and print the result.(replaced)"
      ],
      "metadata": {
        "id": "8qm0pfpOY8ex"
      }
    },
    {
      "cell_type": "code",
      "source": [
        "import random\n",
        "numbers = [random.randint(1, 100) for _ in range(5)]\n",
        "numbers_sorted = sorted(numbers)\n",
        "print(numbers_sorted)"
      ],
      "metadata": {
        "colab": {
          "base_uri": "https://localhost:8080/"
        },
        "id": "5JEdd0qOZL3Y",
        "outputId": "dc30ce0e-33f1-4d98-9069-c34d5c958e37"
      },
      "execution_count": null,
      "outputs": [
        {
          "output_type": "stream",
          "name": "stdout",
          "text": [
            "[7, 9, 14, 59, 64]\n"
          ]
        }
      ]
    },
    {
      "cell_type": "markdown",
      "source": [
        "###28. Write a code to create a list with strings and print the element at the third index."
      ],
      "metadata": {
        "id": "PtdO31stZQA1"
      }
    },
    {
      "cell_type": "code",
      "source": [
        "lst = [\"apple\", \"banana\", \"cherry\", \"date\", \"fig\"]\n",
        "print(lst[3])  # Output: date"
      ],
      "metadata": {
        "colab": {
          "base_uri": "https://localhost:8080/"
        },
        "id": "05eQOLXUZUkR",
        "outputId": "0fe143e0-35c6-4d65-8279-0da7663e1aad"
      },
      "execution_count": null,
      "outputs": [
        {
          "output_type": "stream",
          "name": "stdout",
          "text": [
            "date\n"
          ]
        }
      ]
    },
    {
      "cell_type": "markdown",
      "source": [
        "###29. Write a code to combine two dictionaries into one and print the result."
      ],
      "metadata": {
        "id": "lsYbLml5ZYYT"
      }
    },
    {
      "cell_type": "code",
      "source": [
        "dict1 = {'a': 1, 'b': 2}\n",
        "dict2 = {'c': 3, 'd': 4}\n",
        "merged = {**dict1, **dict2}\n",
        "print(merged)  # Output: {'a': 1, 'b': 2, 'c': 3, 'd': 4}"
      ],
      "metadata": {
        "colab": {
          "base_uri": "https://localhost:8080/"
        },
        "id": "Zyy99haBZdow",
        "outputId": "c2c08ee8-329c-41ce-8232-f12f304b5d04"
      },
      "execution_count": null,
      "outputs": [
        {
          "output_type": "stream",
          "name": "stdout",
          "text": [
            "{'a': 1, 'b': 2, 'c': 3, 'd': 4}\n"
          ]
        }
      ]
    },
    {
      "cell_type": "markdown",
      "source": [
        "### 30. Write a code to convert a list of strings into a set."
      ],
      "metadata": {
        "id": "ODVxpHF_ZhO7"
      }
    },
    {
      "cell_type": "code",
      "source": [
        "str_list = [\"apple\", \"banana\", \"apple\"]\n",
        "str_set = set(str_list)\n",
        "print(str_set)  # Output: {'apple', 'banana'}"
      ],
      "metadata": {
        "colab": {
          "base_uri": "https://localhost:8080/"
        },
        "id": "x4d0DdMRZkk6",
        "outputId": "607fefad-d0c5-4acf-8ad1-c0298db7b795"
      },
      "execution_count": null,
      "outputs": [
        {
          "output_type": "stream",
          "name": "stdout",
          "text": [
            "{'apple', 'banana'}\n"
          ]
        }
      ]
    },
    {
      "cell_type": "markdown",
      "source": [
        "##Thank you:)"
      ],
      "metadata": {
        "id": "XuZ3-zhxZraC"
      }
    }
  ]
}